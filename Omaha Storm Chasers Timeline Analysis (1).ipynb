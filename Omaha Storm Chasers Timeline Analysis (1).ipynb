{
 "cells": [
  {
   "cell_type": "markdown",
   "metadata": {},
   "source": [
    "## Example Code to load a json file of tweets, then use afinn package to do sentiment analysis"
   ]
  },
  {
   "cell_type": "markdown",
   "metadata": {},
   "source": [
    "Information about the afinn dataset: https://finnaarupnielsen.wordpress.com/2011/03/16/afinn-a-new-word-list-for-sentiment-analysis/\n",
    "\n",
    "Information about the afinn package:http://rkuykendall.com/articles/simple-sentiment-analysis-in-python-using-afinn/"
   ]
  },
  {
   "cell_type": "markdown",
   "metadata": {},
   "source": [
    "In the first step we import needed packages, read a json file, and then CAREFULLY choose which lines to analyze. The try structure allows the code to continue even if there is an error. The if statements skip lines in the file that don't have the information we need."
   ]
  },
  {
   "cell_type": "code",
   "execution_count": 32,
   "metadata": {},
   "outputs": [
    {
     "name": "stdout",
     "output_type": "stream",
     "text": [
      "200\n"
     ]
    }
   ],
   "source": [
    "%matplotlib inline\n",
    "import json\n",
    "import pandas as pd\n",
    "import matplotlib.pyplot as plt\n",
    "from afinn import Afinn\n",
    "\n",
    "tweets_data_path = 'oschasers.json'\n",
    "with open(tweets_data_path) as json_file:\n",
    "    tweets_data = json.load(json_file)\n",
    "\n",
    "print(len(tweets_data))"
   ]
  },
  {
   "cell_type": "markdown",
   "metadata": {},
   "source": [
    "We will use the Pandas DataFrame to hold the information. In this case, we construct the dataframe manually from the information in the list called tweets_data. The afinn line shows how easy it is to get a score for a piece of text.\n",
    "\n",
    "In some cases, we have to look another layer deeper to get the tweet information we want. That is true for finding the country...we have to look into place then into country.\n",
    "\n",
    "More importantly, the favorite and retweet counts are in a container called retweeted_status."
   ]
  },
  {
   "cell_type": "code",
   "execution_count": 33,
   "metadata": {},
   "outputs": [],
   "source": [
    "tweets = pd.DataFrame()\n",
    "#ADD columns to dataframe\n",
    "tweets['text'] = list(map(lambda tweet: tweet['text'], tweets_data))\n",
    "tweets['lang'] = list(map(lambda tweet: tweet['lang'], tweets_data))\n",
    "tweets['country'] = list(map(lambda tweet: tweet['place']['country'] if tweet['place'] is not None else None, tweets_data))\n",
    "\n",
    "tweets['favorite_count'] = list(map(lambda tweet: int(tweet['favorite_count']), tweets_data))\n",
    "tweets['retweet_count'] = list(map(lambda tweet: int(tweet['retweet_count']), tweets_data))\n",
    "\t\n",
    "afinn = Afinn(emoticons=True)\n",
    "tweets['sentiment'] = list(map(lambda tweet: afinn.score(tweet['text']), tweets_data ))\n",
    "\n",
    "tweets['created'] = list(map(lambda tweet: tweet['created_at'], tweets_data))"
   ]
  },
  {
   "cell_type": "code",
   "execution_count": 34,
   "metadata": {},
   "outputs": [
    {
     "data": {
      "text/plain": [
       "array([[<matplotlib.axes._subplots.AxesSubplot object at 0x000001B234BE7C08>]],\n",
       "      dtype=object)"
      ]
     },
     "execution_count": 34,
     "metadata": {},
     "output_type": "execute_result"
    },
    {
     "data": {
      "image/png": "[encoded data removed]",
      "text/plain": [
       "<Figure size 432x288 with 1 Axes>"
      ]
     },
     "metadata": {
      "needs_background": "light"
     },
     "output_type": "display_data"
    }
   ],
   "source": [
    "#We can use the hist function for a DataFrame to draw a chart!\n",
    "tweets.hist(column='retweet_count')"
   ]
  },
  {
   "cell_type": "code",
   "execution_count": 35,
   "metadata": {},
   "outputs": [
    {
     "data": {
      "text/plain": [
       "array([[<matplotlib.axes._subplots.AxesSubplot object at 0x000001B23484B188>]],\n",
       "      dtype=object)"
      ]
     },
     "execution_count": 35,
     "metadata": {},
     "output_type": "execute_result"
    },
    {
     "data": {
      "image/png": "[encoded data removed]",
      "text/plain": [
       "<Figure size 432x288 with 1 Axes>"
      ]
     },
     "metadata": {
      "needs_background": "light"
     },
     "output_type": "display_data"
    }
   ],
   "source": [
    "tweets.hist(column='sentiment')"
   ]
  },
  {
   "cell_type": "code",
   "execution_count": 36,
   "metadata": {},
   "outputs": [
    {
     "data": {
      "text/plain": [
       "array([[<matplotlib.axes._subplots.AxesSubplot object at 0x000001B2349DA6C8>]],\n",
       "      dtype=object)"
      ]
     },
     "execution_count": 36,
     "metadata": {},
     "output_type": "execute_result"
    },
    {
     "data": {
      "image/png": "[encoded data removed]",
      "text/plain": [
       "<Figure size 432x288 with 1 Axes>"
      ]
     },
     "metadata": {
      "needs_background": "light"
     },
     "output_type": "display_data"
    }
   ],
   "source": [
    "tweets.hist(column='favorite_count')"
   ]
  },
  {
   "cell_type": "code",
   "execution_count": 37,
   "metadata": {},
   "outputs": [
    {
     "name": "stdout",
     "output_type": "stream",
     "text": [
      "                                                  text lang country  \\\n",
      "76   RT @Royals: #OTD in 2015...\\n\\nChampions.\\n\\n#...   en    None   \n",
      "84   RT @Royals: We have named Mike Matheny the 17t...   en    None   \n",
      "105  RT @Royals: #OTD in 2015...\\n\\nA legend was bo...   en    None   \n",
      "133  RT @Royals: #OTD in 2015, we captured our seco...   en    None   \n",
      "110  RT @Royals: #OTD in 1985...\\n\\nThe Miracle on ...   en    None   \n",
      "42   RT @Royals: Just a couple seven-time #GoldGlov...   en    None   \n",
      "54   RT @Royals: Platinum-level defending? We'd say...   en    None   \n",
      "55   RT @MiLB: #Royals' Kris Bubic was untouchable....   en    None   \n",
      "186  RT @Royals: Whit represents your boys in blue ...   en    None   \n",
      "173  RT @Omaha_Sport: Let's get one thing clear, cu...   en    None   \n",
      "165  RT @WilmBlueRocks: - Paced @MiLB in strikeouts...   en    None   \n",
      "58   RT @trevoaks: Thank you @Royals for the opport...   en    None   \n",
      "49   RT @WilmBlueRocks: ...and the 2019 fan's choic...   en    None   \n",
      "107  RT @MLBPipeline: #Royals prospects impressed i...   en    None   \n",
      "190  Tonight's Astros starter for Game 1 of the ALC...   en    None   \n",
      "\n",
      "     favorite_count  retweet_count  sentiment                         created  \n",
      "76                0           1508        2.0  Fri Nov 01 18:16:53 +0000 2019  \n",
      "84                0           1062        0.0  Thu Oct 31 15:36:36 +0000 2019  \n",
      "105               0            836        0.0  Sun Oct 27 17:26:41 +0000 2019  \n",
      "133               0            601        0.0  Wed Oct 23 18:22:39 +0000 2019  \n",
      "110               0            276        4.0  Sat Oct 26 14:41:06 +0000 2019  \n",
      "42                0             97        0.0  Tue Nov 12 02:33:04 +0000 2019  \n",
      "54                0             71        3.0  Thu Nov 07 20:28:28 +0000 2019  \n",
      "55                0             66        2.0  Thu Nov 07 19:36:53 +0000 2019  \n",
      "186               0             41        6.0  Mon Oct 14 17:33:23 +0000 2019  \n",
      "173               0             37        4.0  Wed Oct 16 19:07:41 +0000 2019  \n",
      "165               0             34        0.0  Fri Oct 18 15:10:09 +0000 2019  \n",
      "58                0             31       10.0  Wed Nov 06 19:26:07 +0000 2019  \n",
      "49                0             22        5.0  Fri Nov 08 19:49:33 +0000 2019  \n",
      "107               0             20        4.0  Sat Oct 26 22:59:48 +0000 2019  \n",
      "190             256             20        0.0  Sat Oct 12 22:53:00 +0000 2019  \n"
     ]
    }
   ],
   "source": [
    "#we can use the nlargest or nsmallest to see results\n",
    "print(tweets.nlargest(15,'retweet_count'))"
   ]
  },
  {
   "cell_type": "code",
   "execution_count": 38,
   "metadata": {},
   "outputs": [
    {
     "name": "stdout",
     "output_type": "stream",
     "text": [
      "                                                  text lang country  \\\n",
      "64                 @MiLB @andruwgreen it's...not bad 😁   en    None   \n",
      "143  You had to know this was coming. #Carma? \\n\\n(...   en    None   \n",
      "139  @asten77 when soccer games are played, the mou...   en    None   \n",
      "162  With Baseballoween a week away, Casey, @Stormy...   en    None   \n",
      "188  In case you missed it: @USABaseball announced ...   en    None   \n",
      "51   @RecoveringOps the vouchers are not limited to...   en    None   \n",
      "57   We got a call saying we don't have to worry ab...   en    None   \n",
      "85   RT @Union_Omaha: Today is the last day to drop...   en    None   \n",
      "106  Time is running out to RSVP for Friendsgiving ...   en    None   \n",
      "117  Don’t forget, our Garage Sale starts at 2pm &a...   en    None   \n",
      "\n",
      "     favorite_count  retweet_count  sentiment                         created  \n",
      "64                5              0       -3.0  Tue Nov 05 23:48:35 +0000 2019  \n",
      "143              82             12       -3.0  Tue Oct 22 18:07:00 +0000 2019  \n",
      "139               1              0       -2.0  Tue Oct 22 18:34:40 +0000 2019  \n",
      "162              12              2       -2.0  Fri Oct 18 22:45:00 +0000 2019  \n",
      "188              10              0       -2.0  Sun Oct 13 21:39:00 +0000 2019  \n",
      "51                1              0       -1.0  Fri Nov 08 18:32:03 +0000 2019  \n",
      "57               18              0       -1.0  Thu Nov 07 15:42:07 +0000 2019  \n",
      "85                0              5       -1.0  Thu Oct 31 14:37:27 +0000 2019  \n",
      "106               7              1       -1.0  Sun Oct 27 16:12:41 +0000 2019  \n",
      "117              11              0       -1.0  Fri Oct 25 18:27:50 +0000 2019  \n"
     ]
    }
   ],
   "source": [
    "print(tweets.nsmallest(10,'sentiment'))"
   ]
  },
  {
   "cell_type": "code",
   "execution_count": 39,
   "metadata": {
    "scrolled": true
   },
   "outputs": [
    {
     "name": "stdout",
     "output_type": "stream",
     "text": [
      "64                   @MiLB @andruwgreen it's...not bad 😁\n",
      "143    You had to know this was coming. #Carma? \\n\\n(...\n",
      "139    @asten77 when soccer games are played, the mou...\n",
      "162    With Baseballoween a week away, Casey, @Stormy...\n",
      "188    In case you missed it: @USABaseball announced ...\n",
      "51     @RecoveringOps the vouchers are not limited to...\n",
      "57     We got a call saying we don't have to worry ab...\n",
      "85     RT @Union_Omaha: Today is the last day to drop...\n",
      "106    Time is running out to RSVP for Friendsgiving ...\n",
      "117    Don’t forget, our Garage Sale starts at 2pm &a...\n",
      "Name: text, dtype: object\n"
     ]
    }
   ],
   "source": [
    "badones = tweets.nsmallest(10,'sentiment')\n",
    "print(badones['text'])\n"
   ]
  },
  {
   "cell_type": "code",
   "execution_count": null,
   "metadata": {},
   "outputs": [],
   "source": []
  },
  {
   "cell_type": "code",
   "execution_count": 45,
   "metadata": {},
   "outputs": [],
   "source": [
    "import re\n",
    "\n",
    "\n",
    "def word_in_text(word, text):\n",
    "    word = word.lower()\n",
    "    text = text.lower()\n",
    "    match = re.search(word, text)\n",
    "    if match:\n",
    "        return True\n",
    "    return False\n",
    "tweets['Omaha Storm Chasers'] = tweets['text'].apply(lambda tweet: word_in_text('Omaha Storm Chasers', tweet))\n",
    "tweets['Sacremento River Cats'] = tweets['text'].apply(lambda tweet: word_in_text('Sacremento River Cats', tweet))\n",
    "tweets['Round Rock Express'] = tweets['text'].apply(lambda tweet: word_in_text('Round Rock Express', tweet))\n",
    "tweets['Las Vegas Aviators'] = tweets['text'].apply(lambda tweet: word_in_text('Las Vegas Aviators', tweet))\n"
   ]
  },
  {
   "cell_type": "code",
   "execution_count": 46,
   "metadata": {},
   "outputs": [
    {
     "ename": "KeyError",
     "evalue": "True",
     "output_type": "error",
     "traceback": [
      "\u001b[1;31m---------------------------------------------------------------------------\u001b[0m",
      "\u001b[1;31mKeyError\u001b[0m                                  Traceback (most recent call last)",
      "\u001b[1;32m<ipython-input-46-e02915b9a629>\u001b[0m in \u001b[0;36m<module>\u001b[1;34m\u001b[0m\n\u001b[0;32m      1\u001b[0m \u001b[0mprg_langs\u001b[0m \u001b[1;33m=\u001b[0m \u001b[1;33m[\u001b[0m\u001b[1;34m'Omaha Storm Chaseres'\u001b[0m\u001b[1;33m,\u001b[0m \u001b[1;34m'Sacremento River Cats'\u001b[0m\u001b[1;33m,\u001b[0m \u001b[1;34m'Round Rock Express'\u001b[0m\u001b[1;33m,\u001b[0m\u001b[1;34m'Las Vegas Aviators'\u001b[0m\u001b[1;33m]\u001b[0m\u001b[1;33m\u001b[0m\u001b[1;33m\u001b[0m\u001b[0m\n\u001b[1;32m----> 2\u001b[1;33m \u001b[0mtweets_by_prg_lang\u001b[0m \u001b[1;33m=\u001b[0m \u001b[1;33m[\u001b[0m\u001b[0mtweets\u001b[0m\u001b[1;33m[\u001b[0m\u001b[1;34m'Omaha Storm Chasers'\u001b[0m\u001b[1;33m]\u001b[0m\u001b[1;33m.\u001b[0m\u001b[0mvalue_counts\u001b[0m\u001b[1;33m(\u001b[0m\u001b[1;33m)\u001b[0m\u001b[1;33m[\u001b[0m\u001b[1;32mTrue\u001b[0m\u001b[1;33m]\u001b[0m\u001b[1;33m,\u001b[0m \u001b[0mtweets\u001b[0m\u001b[1;33m[\u001b[0m\u001b[1;34m'Sacremento River Cats'\u001b[0m\u001b[1;33m]\u001b[0m\u001b[1;33m.\u001b[0m\u001b[0mvalue_counts\u001b[0m\u001b[1;33m(\u001b[0m\u001b[1;33m)\u001b[0m\u001b[1;33m[\u001b[0m\u001b[1;32mTrue\u001b[0m\u001b[1;33m]\u001b[0m\u001b[1;33m,\u001b[0m\u001b[0mtweets\u001b[0m\u001b[1;33m[\u001b[0m\u001b[1;34m'Round Rock Express'\u001b[0m\u001b[1;33m]\u001b[0m\u001b[1;33m.\u001b[0m\u001b[0mvalue_counts\u001b[0m\u001b[1;33m(\u001b[0m\u001b[1;33m)\u001b[0m\u001b[1;33m[\u001b[0m\u001b[1;32mTrue\u001b[0m\u001b[1;33m]\u001b[0m\u001b[1;33m,\u001b[0m\u001b[0mtweets\u001b[0m\u001b[1;33m[\u001b[0m\u001b[1;34m'Las Vegas Aviators'\u001b[0m\u001b[1;33m]\u001b[0m\u001b[1;33m.\u001b[0m\u001b[0mvalue_counts\u001b[0m\u001b[1;33m(\u001b[0m\u001b[1;33m)\u001b[0m\u001b[1;33m[\u001b[0m\u001b[1;32mTrue\u001b[0m\u001b[1;33m]\u001b[0m\u001b[1;33m]\u001b[0m\u001b[1;33m\u001b[0m\u001b[1;33m\u001b[0m\u001b[0m\n\u001b[0m\u001b[0;32m      3\u001b[0m \u001b[1;33m\u001b[0m\u001b[0m\n\u001b[0;32m      4\u001b[0m \u001b[0mx_pos\u001b[0m \u001b[1;33m=\u001b[0m \u001b[0mlist\u001b[0m\u001b[1;33m(\u001b[0m\u001b[0mrange\u001b[0m\u001b[1;33m(\u001b[0m\u001b[0mlen\u001b[0m\u001b[1;33m(\u001b[0m\u001b[0mprg_langs\u001b[0m\u001b[1;33m)\u001b[0m\u001b[1;33m)\u001b[0m\u001b[1;33m)\u001b[0m\u001b[1;33m\u001b[0m\u001b[1;33m\u001b[0m\u001b[0m\n\u001b[0;32m      5\u001b[0m \u001b[0mwidth\u001b[0m \u001b[1;33m=\u001b[0m \u001b[1;36m0.8\u001b[0m\u001b[1;33m\u001b[0m\u001b[1;33m\u001b[0m\u001b[0m\n",
      "\u001b[1;32m~\\Anaconda3\\lib\\site-packages\\pandas\\core\\series.py\u001b[0m in \u001b[0;36m__getitem__\u001b[1;34m(self, key)\u001b[0m\n\u001b[0;32m   1066\u001b[0m         \u001b[0mkey\u001b[0m \u001b[1;33m=\u001b[0m \u001b[0mcom\u001b[0m\u001b[1;33m.\u001b[0m\u001b[0mapply_if_callable\u001b[0m\u001b[1;33m(\u001b[0m\u001b[0mkey\u001b[0m\u001b[1;33m,\u001b[0m \u001b[0mself\u001b[0m\u001b[1;33m)\u001b[0m\u001b[1;33m\u001b[0m\u001b[1;33m\u001b[0m\u001b[0m\n\u001b[0;32m   1067\u001b[0m         \u001b[1;32mtry\u001b[0m\u001b[1;33m:\u001b[0m\u001b[1;33m\u001b[0m\u001b[1;33m\u001b[0m\u001b[0m\n\u001b[1;32m-> 1068\u001b[1;33m             \u001b[0mresult\u001b[0m \u001b[1;33m=\u001b[0m \u001b[0mself\u001b[0m\u001b[1;33m.\u001b[0m\u001b[0mindex\u001b[0m\u001b[1;33m.\u001b[0m\u001b[0mget_value\u001b[0m\u001b[1;33m(\u001b[0m\u001b[0mself\u001b[0m\u001b[1;33m,\u001b[0m \u001b[0mkey\u001b[0m\u001b[1;33m)\u001b[0m\u001b[1;33m\u001b[0m\u001b[1;33m\u001b[0m\u001b[0m\n\u001b[0m\u001b[0;32m   1069\u001b[0m \u001b[1;33m\u001b[0m\u001b[0m\n\u001b[0;32m   1070\u001b[0m             \u001b[1;32mif\u001b[0m \u001b[1;32mnot\u001b[0m \u001b[0mis_scalar\u001b[0m\u001b[1;33m(\u001b[0m\u001b[0mresult\u001b[0m\u001b[1;33m)\u001b[0m\u001b[1;33m:\u001b[0m\u001b[1;33m\u001b[0m\u001b[1;33m\u001b[0m\u001b[0m\n",
      "\u001b[1;32m~\\Anaconda3\\lib\\site-packages\\pandas\\core\\indexes\\base.py\u001b[0m in \u001b[0;36mget_value\u001b[1;34m(self, series, key)\u001b[0m\n\u001b[0;32m   4728\u001b[0m         \u001b[0mk\u001b[0m \u001b[1;33m=\u001b[0m \u001b[0mself\u001b[0m\u001b[1;33m.\u001b[0m\u001b[0m_convert_scalar_indexer\u001b[0m\u001b[1;33m(\u001b[0m\u001b[0mk\u001b[0m\u001b[1;33m,\u001b[0m \u001b[0mkind\u001b[0m\u001b[1;33m=\u001b[0m\u001b[1;34m\"getitem\"\u001b[0m\u001b[1;33m)\u001b[0m\u001b[1;33m\u001b[0m\u001b[1;33m\u001b[0m\u001b[0m\n\u001b[0;32m   4729\u001b[0m         \u001b[1;32mtry\u001b[0m\u001b[1;33m:\u001b[0m\u001b[1;33m\u001b[0m\u001b[1;33m\u001b[0m\u001b[0m\n\u001b[1;32m-> 4730\u001b[1;33m             \u001b[1;32mreturn\u001b[0m \u001b[0mself\u001b[0m\u001b[1;33m.\u001b[0m\u001b[0m_engine\u001b[0m\u001b[1;33m.\u001b[0m\u001b[0mget_value\u001b[0m\u001b[1;33m(\u001b[0m\u001b[0ms\u001b[0m\u001b[1;33m,\u001b[0m \u001b[0mk\u001b[0m\u001b[1;33m,\u001b[0m \u001b[0mtz\u001b[0m\u001b[1;33m=\u001b[0m\u001b[0mgetattr\u001b[0m\u001b[1;33m(\u001b[0m\u001b[0mseries\u001b[0m\u001b[1;33m.\u001b[0m\u001b[0mdtype\u001b[0m\u001b[1;33m,\u001b[0m \u001b[1;34m\"tz\"\u001b[0m\u001b[1;33m,\u001b[0m \u001b[1;32mNone\u001b[0m\u001b[1;33m)\u001b[0m\u001b[1;33m)\u001b[0m\u001b[1;33m\u001b[0m\u001b[1;33m\u001b[0m\u001b[0m\n\u001b[0m\u001b[0;32m   4731\u001b[0m         \u001b[1;32mexcept\u001b[0m \u001b[0mKeyError\u001b[0m \u001b[1;32mas\u001b[0m \u001b[0me1\u001b[0m\u001b[1;33m:\u001b[0m\u001b[1;33m\u001b[0m\u001b[1;33m\u001b[0m\u001b[0m\n\u001b[0;32m   4732\u001b[0m             \u001b[1;32mif\u001b[0m \u001b[0mlen\u001b[0m\u001b[1;33m(\u001b[0m\u001b[0mself\u001b[0m\u001b[1;33m)\u001b[0m \u001b[1;33m>\u001b[0m \u001b[1;36m0\u001b[0m \u001b[1;32mand\u001b[0m \u001b[1;33m(\u001b[0m\u001b[0mself\u001b[0m\u001b[1;33m.\u001b[0m\u001b[0mholds_integer\u001b[0m\u001b[1;33m(\u001b[0m\u001b[1;33m)\u001b[0m \u001b[1;32mor\u001b[0m \u001b[0mself\u001b[0m\u001b[1;33m.\u001b[0m\u001b[0mis_boolean\u001b[0m\u001b[1;33m(\u001b[0m\u001b[1;33m)\u001b[0m\u001b[1;33m)\u001b[0m\u001b[1;33m:\u001b[0m\u001b[1;33m\u001b[0m\u001b[1;33m\u001b[0m\u001b[0m\n",
      "\u001b[1;32mpandas\\_libs\\index.pyx\u001b[0m in \u001b[0;36mpandas._libs.index.IndexEngine.get_value\u001b[1;34m()\u001b[0m\n",
      "\u001b[1;32mpandas\\_libs\\index.pyx\u001b[0m in \u001b[0;36mpandas._libs.index.IndexEngine.get_value\u001b[1;34m()\u001b[0m\n",
      "\u001b[1;32mpandas\\_libs\\index.pyx\u001b[0m in \u001b[0;36mpandas._libs.index.IndexEngine.get_loc\u001b[1;34m()\u001b[0m\n",
      "\u001b[1;32mpandas\\_libs\\hashtable_class_helper.pxi\u001b[0m in \u001b[0;36mpandas._libs.hashtable.PyObjectHashTable.get_item\u001b[1;34m()\u001b[0m\n",
      "\u001b[1;32mpandas\\_libs\\hashtable_class_helper.pxi\u001b[0m in \u001b[0;36mpandas._libs.hashtable.PyObjectHashTable.get_item\u001b[1;34m()\u001b[0m\n",
      "\u001b[1;31mKeyError\u001b[0m: True"
     ]
    }
   ],
   "source": [
    "prg_langs = ['Omaha Storm Chaseres', 'Sacremento River Cats', 'Round Rock Express','Las Vegas Aviators']\n",
    "tweets_by_prg_lang = [tweets['Omaha Storm Chasers'].value_counts()[True], tweets['Sacremento River Cats'].value_counts()[True],tweets['Round Rock Express'].value_counts()[True],tweets['Las Vegas Aviators'].value_counts()[True]]\n",
    "\n",
    "x_pos = list(range(len(prg_langs)))\n",
    "width = 0.8\n",
    "fig, ax = plt.subplots()\n",
    "plt.bar(x_pos, tweets_by_prg_lang, width, alpha=1, color='g')\n",
    "\n",
    "# Setting axis labels and ticks\n",
    "ax.set_ylabel('Number of tweets', fontsize=15)\n",
    "ax.set_title('Ranking: Omaha Storm Chasers vs. Sacremento River Cats vs. Round Rock Express vs. Las Vegas Aviators (Raw data)', fontsize=10, fontweight='bold')\n",
    "ax.set_xticks([p + 0.05 * width for p in x_pos])\n",
    "ax.set_xticklabels(prg_langs)\n",
    "#plt.grid()\n",
    "#plt.show()"
   ]
  },
  {
   "cell_type": "code",
   "execution_count": null,
   "metadata": {},
   "outputs": [],
   "source": []
  }
 ],
 "metadata": {
  "kernelspec": {
   "display_name": "Python 3",
   "language": "python",
   "name": "python3"
  },
  "language_info": {
   "codemirror_mode": {
    "name": "ipython",
    "version": 3
   },
   "file_extension": ".py",
   "mimetype": "text/x-python",
   "name": "python",
   "nbconvert_exporter": "python",
   "pygments_lexer": "ipython3",
   "version": "3.7.4"
  }
 },
 "nbformat": 4,
 "nbformat_minor": 1
}
