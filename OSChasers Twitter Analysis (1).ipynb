{
 "cells": [
  {
   "cell_type": "markdown",
   "metadata": {},
   "source": [
    "## Example Code to Analyze Twitter Data using \n",
    "## afinn package to do sentiment analysis\n",
    "## and nltk for text mining"
   ]
  },
  {
   "cell_type": "markdown",
   "metadata": {},
   "source": [
    "Information about the afinn dataset: https://finnaarupnielsen.wordpress.com/2011/03/16/afinn-a-new-word-list-for-sentiment-analysis/\n",
    "\n",
    "Information about the afinn package:http://rkuykendall.com/articles/simple-sentiment-analysis-in-python-using-afinn/"
   ]
  },
  {
   "cell_type": "markdown",
   "metadata": {},
   "source": [
    "In the first step we import needed packages, read a json file, and then CAREFULLY choose which lines to analyze. The try structure allows the code to continue even if there is an error. The if statements skip lines in the file that don't have the information we need."
   ]
  },
  {
   "cell_type": "code",
   "execution_count": 1,
   "metadata": {},
   "outputs": [
    {
     "name": "stdout",
     "output_type": "stream",
     "text": [
      "138\n"
     ]
    }
   ],
   "source": [
    "%matplotlib inline\n",
    "import json\n",
    "import pandas as pd\n",
    "import matplotlib.pyplot as plt\n",
    "from afinn import Afinn\n",
    "\n",
    "tweets_data_path = 'baseball.json' #set this to your filename\n",
    "tweets_data = []\n",
    "tweets_file = open(tweets_data_path, \"r\")\n",
    "\n",
    "for line in tweets_file:\n",
    "    try:\n",
    "        if 'created_at' in line:\n",
    "             tweet = json.loads(line)\n",
    "             #if 'retweeted_status' in tweet:\n",
    "             tweets_data.append(tweet)\n",
    "    except:\n",
    "        continue\n",
    "\n",
    "print(len(tweets_data))"
   ]
  },
  {
   "cell_type": "markdown",
   "metadata": {},
   "source": [
    "We will use the Pandas DataFrame to hold the information. In this case, we construct the dataframe manually from the information in the list called tweets_data. The afinn line shows how easy it is to get a score for a piece of text."
   ]
  },
  {
   "cell_type": "code",
   "execution_count": 2,
   "metadata": {},
   "outputs": [],
   "source": [
    "tweets = pd.DataFrame()\n",
    "#ADD columns to dataframe\n",
    "tweets['text'] = list(map(lambda tweet: tweet['text'], tweets_data))\n",
    "tweets['lang'] = list(map(lambda tweet: tweet['lang'], tweets_data))\n",
    "tweets['country'] = list(map(lambda tweet: tweet['place']['country'] if tweet['place'] is not None else None, tweets_data))\n",
    "\n",
    "#embedded if statement address if the retweeted_status piece is not present\n",
    "tweets['favorite_count'] = list(map(lambda tweet: int(tweet['retweeted_status']['favorite_count']) if 'retweeted_status' in tweet else int(tweet['favorite_count']), tweets_data))\n",
    "tweets['retweet_count'] = list(map(lambda tweet: int(tweet['retweeted_status']['retweet_count']) if 'retweeted_status' in tweet else int(tweet['retweet_count']), tweets_data))\n",
    "\t\n",
    "afinn = Afinn(emoticons=True)\n",
    "tweets['sentiment'] = list(map(lambda tweet: afinn.score(tweet['text']), tweets_data ))\n",
    "\n",
    "tweets['created'] = list(map(lambda tweet: tweet['created_at'], tweets_data))"
   ]
  },
  {
   "cell_type": "code",
   "execution_count": 3,
   "metadata": {},
   "outputs": [
    {
     "data": {
      "text/plain": [
       "138"
      ]
     },
     "execution_count": 3,
     "metadata": {},
     "output_type": "execute_result"
    }
   ],
   "source": [
    "len(tweets['text'])"
   ]
  },
  {
   "cell_type": "code",
   "execution_count": 4,
   "metadata": {},
   "outputs": [
    {
     "data": {
      "text/plain": [
       "1"
      ]
     },
     "execution_count": 4,
     "metadata": {},
     "output_type": "execute_result"
    }
   ],
   "source": [
    "len(tweets[tweets.retweet_count > 500])"
   ]
  },
  {
   "cell_type": "code",
   "execution_count": 5,
   "metadata": {},
   "outputs": [
    {
     "data": {
      "text/plain": [
       "array([[<matplotlib.axes._subplots.AxesSubplot object at 0x0000021ABA899148>]],\n",
       "      dtype=object)"
      ]
     },
     "execution_count": 5,
     "metadata": {},
     "output_type": "execute_result"
    },
    {
     "data": {
      "image/png": "[encoded data removed]",
      "text/plain": [
       "<Figure size 432x288 with 1 Axes>"
      ]
     },
     "metadata": {
      "needs_background": "light"
     },
     "output_type": "display_data"
    }
   ],
   "source": [
    "#We can use the hist function for a DataFrame to draw a chart!\n",
    "tweets.hist(column='retweet_count')"
   ]
  },
  {
   "cell_type": "code",
   "execution_count": 6,
   "metadata": {},
   "outputs": [
    {
     "data": {
      "text/plain": [
       "array([[<matplotlib.axes._subplots.AxesSubplot object at 0x0000021ABDD5D8C8>]],\n",
       "      dtype=object)"
      ]
     },
     "execution_count": 6,
     "metadata": {},
     "output_type": "execute_result"
    },
    {
     "data": {
      "image/png": "[encoded data removed]",
      "text/plain": [
       "<Figure size 432x288 with 1 Axes>"
      ]
     },
     "metadata": {
      "needs_background": "light"
     },
     "output_type": "display_data"
    }
   ],
   "source": [
    "tweets.hist(column='sentiment')"
   ]
  },
  {
   "cell_type": "code",
   "execution_count": 7,
   "metadata": {},
   "outputs": [
    {
     "data": {
      "text/plain": [
       "array([[<matplotlib.axes._subplots.AxesSubplot object at 0x0000021ABDDE14C8>]],\n",
       "      dtype=object)"
      ]
     },
     "execution_count": 7,
     "metadata": {},
     "output_type": "execute_result"
    },
    {
     "data": {
      "image/png": "[encoded data removed]",
      "text/plain": [
       "<Figure size 432x288 with 1 Axes>"
      ]
     },
     "metadata": {
      "needs_background": "light"
     },
     "output_type": "display_data"
    }
   ],
   "source": [
    "tweets.hist(column='favorite_count')"
   ]
  },
  {
   "cell_type": "code",
   "execution_count": 8,
   "metadata": {},
   "outputs": [
    {
     "name": "stdout",
     "output_type": "stream",
     "text": [
      "                                                  text lang country  \\\n",
      "133  RT @ishkarnBHANDARI: Today @AmitShah ji is bat...   en    None   \n",
      "39   RT @BtsMvStatistics: [BTS  STATISTICS WEEK 64]...   en    None   \n",
      "24   RT @blaqbfly: on god tho riddle me this. how’s...   en    None   \n",
      "129  RT @The_Sleigher: Rishabh Pant has wicketkeepi...   en    None   \n",
      "128  RT @AnthonyDiComo: Carlos Beltrán's 2020 Mets ...   en    None   \n",
      "\n",
      "     favorite_count  retweet_count  sentiment                         created  \n",
      "133            3859            797        4.0  Mon Dec 09 15:15:11 +0000 2019  \n",
      "39              762            458        1.0  Tue Dec 03 23:54:46 +0000 2019  \n",
      "24             1164            372       -5.0  Tue Dec 03 23:53:17 +0000 2019  \n",
      "129            2160            364        0.0  Mon Dec 09 15:14:49 +0000 2019  \n",
      "128            1133            163        0.0  Mon Dec 09 15:14:43 +0000 2019  \n"
     ]
    }
   ],
   "source": [
    "#we can use the nlargest or nsmallest to see results\n",
    "print(tweets.nlargest(5,'retweet_count'))"
   ]
  },
  {
   "cell_type": "code",
   "execution_count": 9,
   "metadata": {},
   "outputs": [
    {
     "name": "stdout",
     "output_type": "stream",
     "text": [
      "                                                  text lang country  \\\n",
      "24   RT @blaqbfly: on god tho riddle me this. how’s...   en    None   \n",
      "64   RT @DaniLavelle: Officially 726 homeless peopl...   en    None   \n",
      "67   RT @guywilliamsguy: Kiwis love saying “No worr...   en    None   \n",
      "113  RT @TroyPSilva: Losing\\nFailure\\n0-fers\\nNot s...   en    None   \n",
      "0    RT @deathbyhibachi: Homeless Deaths\\nhttps://t...   en    None   \n",
      "60    You are not alone! #MentalHealthMatters #anxiety   en    None   \n",
      "103  So now Republicans have brought back their rea...   en    None   \n",
      "115  RT @MSignorile: So now Republicans have brough...   en    None   \n",
      "121  RT @MSignorile: So now Republicans have brough...   en    None   \n",
      "126  RT @MSignorile: So now Republicans have brough...   en    None   \n",
      "\n",
      "     favorite_count  retweet_count  sentiment                         created  \n",
      "24             1164            372       -5.0  Tue Dec 03 23:53:17 +0000 2019  \n",
      "64                4              2       -5.0  Tue Dec 03 23:57:36 +0000 2019  \n",
      "67              624             98       -5.0  Tue Dec 03 23:57:41 +0000 2019  \n",
      "113              62             21       -5.0  Mon Dec 09 15:13:47 +0000 2019  \n",
      "0                 0              1       -4.0  Tue Dec 03 23:51:33 +0000 2019  \n",
      "60                0              0       -4.0  Tue Dec 03 23:57:15 +0000 2019  \n",
      "103               0              0       -3.0  Mon Dec 09 15:13:14 +0000 2019  \n",
      "115               5              1       -3.0  Mon Dec 09 15:13:55 +0000 2019  \n",
      "121               9              2       -3.0  Mon Dec 09 15:14:10 +0000 2019  \n",
      "126              20              3       -3.0  Mon Dec 09 15:14:32 +0000 2019  \n"
     ]
    }
   ],
   "source": [
    "print(tweets.nsmallest(10,'sentiment'))"
   ]
  },
  {
   "cell_type": "code",
   "execution_count": 12,
   "metadata": {
    "scrolled": true
   },
   "outputs": [],
   "source": [
    "from textblob import TextBlob\n",
    "import nltk"
   ]
  },
  {
   "cell_type": "code",
   "execution_count": 13,
   "metadata": {},
   "outputs": [],
   "source": [
    "tweetstr = \" \".join(tweets['text'])\n",
    "tweetblob = TextBlob(tweetstr)\n",
    "tokens = nltk.word_tokenize(tweetstr)"
   ]
  },
  {
   "cell_type": "code",
   "execution_count": 14,
   "metadata": {},
   "outputs": [
    {
     "data": {
      "text/plain": [
       "Sentiment(polarity=0.054681878407759336, subjectivity=0.44026434043212553)"
      ]
     },
     "execution_count": 14,
     "metadata": {},
     "output_type": "execute_result"
    }
   ],
   "source": [
    "tweetblob.sentiment"
   ]
  },
  {
   "cell_type": "code",
   "execution_count": 15,
   "metadata": {},
   "outputs": [
    {
     "data": {
      "text/plain": [
       "0"
      ]
     },
     "execution_count": 15,
     "metadata": {},
     "output_type": "execute_result"
    }
   ],
   "source": [
    "tweetblob.words.count('victory')"
   ]
  },
  {
   "cell_type": "code",
   "execution_count": 16,
   "metadata": {},
   "outputs": [
    {
     "data": {
      "text/plain": [
       "[('rt', 75),\n",
       " ('the', 63),\n",
       " ('to', 55),\n",
       " ('of', 51),\n",
       " ('https', 48),\n",
       " ('and', 41),\n",
       " ('statistics', 36),\n",
       " ('is', 36),\n",
       " ('on', 34),\n",
       " ('a', 30),\n",
       " ('in', 26),\n",
       " ('i', 21),\n",
       " ('are', 20),\n",
       " ('for', 19),\n",
       " ('have', 19),\n",
       " ('you', 17),\n",
       " ('their', 17),\n",
       " ('republicans', 16),\n",
       " ('’', 15),\n",
       " ('with', 15)]"
      ]
     },
     "execution_count": 16,
     "metadata": {},
     "output_type": "execute_result"
    }
   ],
   "source": [
    "wordfreqs = nltk.probability.FreqDist(w.lower() for w in tweetblob.words)\n",
    "mostcommon = wordfreqs.most_common(20)\n",
    "mostcommon"
   ]
  },
  {
   "cell_type": "code",
   "execution_count": 17,
   "metadata": {},
   "outputs": [
    {
     "data": {
      "text/plain": [
       "[('rt', 75),\n",
       " ('https', 48),\n",
       " ('statistics', 36),\n",
       " ('i', 16),\n",
       " ('republicans', 16),\n",
       " ('’', 15),\n",
       " ('batting', 15),\n",
       " ('pitching', 15),\n",
       " ('new', 12),\n",
       " ('national', 11),\n",
       " ('based', 10),\n",
       " ('government', 9),\n",
       " ('one', 9),\n",
       " ('th…', 9),\n",
       " ('really', 9),\n",
       " (\"'s\", 9),\n",
       " ('so', 9),\n",
       " ('congress', 9),\n",
       " ('bring', 9),\n",
       " ('jamesmelville', 8)]"
      ]
     },
     "execution_count": 17,
     "metadata": {},
     "output_type": "execute_result"
    }
   ],
   "source": [
    "stopwords = nltk.corpus.stopwords.words('english')\n",
    "wordfreqs = nltk.probability.FreqDist(w.lower() for w in tweetblob.words if w not in stopwords)\n",
    "mostcommon = wordfreqs.most_common(20)\n",
    "mostcommon"
   ]
  },
  {
   "cell_type": "code",
   "execution_count": null,
   "metadata": {},
   "outputs": [],
   "source": []
  },
  {
   "cell_type": "code",
   "execution_count": 19,
   "metadata": {},
   "outputs": [
    {
     "data": {
      "text/plain": [
       "[(('of', 'the'), 10),\n",
       " (('there', 'is'), 9),\n",
       " (('is', 'one'), 9),\n",
       " (('Congress', 'and'), 9),\n",
       " (('are', 'pitching'), 9),\n",
       " (('’', 's'), 8),\n",
       " (('RT', 'JamesMelville'), 8),\n",
       " (('JamesMelville', 'Based'), 8),\n",
       " (('Based', 'on'), 8),\n",
       " (('on', 'these'), 8),\n",
       " (('these', 'Tory'), 8),\n",
       " (('Tory', 'government'), 8),\n",
       " (('government', 'national'), 8),\n",
       " (('national', 'debt'), 8),\n",
       " (('debt', 'statistics'), 8),\n",
       " (('statistics', 'during'), 8),\n",
       " (('during', 'a'), 8),\n",
       " (('a', 'decade'), 8),\n",
       " (('decade', 'of'), 8),\n",
       " (('of', 'austerity'), 8)]"
      ]
     },
     "execution_count": 19,
     "metadata": {},
     "output_type": "execute_result"
    }
   ],
   "source": [
    "ngrams = nltk.bigrams(tweetblob.words)\n",
    "ngramfreqs = nltk.probability.FreqDist(ngrams)\n",
    "mostcommon = ngramfreqs.most_common(20)\n",
    "mostcommon"
   ]
  },
  {
   "cell_type": "code",
   "execution_count": 21,
   "metadata": {},
   "outputs": [
    {
     "name": "stdout",
     "output_type": "stream",
     "text": [
      "No matches\n",
      "No matches\n"
     ]
    }
   ],
   "source": [
    "text = nltk.Text(w.SSlower() for w in tweetblob.words if w not in stopwords)\n",
    "text.similar('OSChasers')\n",
    "text2 = nltk.Text(w.lower() for w in tokens if w not in stopwords)\n",
    "text2.similar('player statistics')"
   ]
  },
  {
   "cell_type": "code",
   "execution_count": 22,
   "metadata": {},
   "outputs": [
    {
     "data": {
      "text/plain": [
       "127"
      ]
     },
     "execution_count": 22,
     "metadata": {},
     "output_type": "execute_result"
    }
   ],
   "source": [
    "lotsofblobs = list(TextBlob(tweet['text']))\n",
    "len(lotsofblobs)"
   ]
  },
  {
   "cell_type": "code",
   "execution_count": 23,
   "metadata": {},
   "outputs": [
    {
     "data": {
      "text/plain": [
       "Sentiment(polarity=0.0, subjectivity=0.0)"
      ]
     },
     "execution_count": 23,
     "metadata": {},
     "output_type": "execute_result"
    }
   ],
   "source": [
    "tweets['blob'] = list(map(lambda tweet: TextBlob(tweet['text']), tweets_data ))\n",
    "len(tweets['blob'])\n",
    "tweets['blob'][1].sentiment"
   ]
  },
  {
   "cell_type": "code",
   "execution_count": 24,
   "metadata": {},
   "outputs": [
    {
     "data": {
      "text/plain": [
       "138"
      ]
     },
     "execution_count": 24,
     "metadata": {},
     "output_type": "execute_result"
    }
   ],
   "source": [
    "tweets['blobsentiment'] = map(lambda tweet: tweet.sentiment, tweets_data )\n",
    "len(tweets['blobsentiment'])"
   ]
  }
 ],
 "metadata": {
  "kernelspec": {
   "display_name": "Python 3",
   "language": "python",
   "name": "python3"
  },
  "language_info": {
   "codemirror_mode": {
    "name": "ipython",
    "version": 3
   },
   "file_extension": ".py",
   "mimetype": "text/x-python",
   "name": "python",
   "nbconvert_exporter": "python",
   "pygments_lexer": "ipython3",
   "version": "3.7.4"
  }
 },
 "nbformat": 4,
 "nbformat_minor": 1
}
